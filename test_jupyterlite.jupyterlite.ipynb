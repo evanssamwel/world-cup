{
  "metadata": {
    "kernelspec": {
      "name": "python",
      "display_name": "Python (Pyodide)",
      "language": "python"
    },
    "language_info": {
      "codemirror_mode": {
        "name": "python",
        "version": 3
      },
      "file_extension": ".py",
      "mimetype": "text/x-python",
      "name": "python",
      "nbconvert_exporter": "python",
      "pygments_lexer": "ipython3",
      "version": "3.8"
    }
  },
  "nbformat_minor": 4,
  "nbformat": 4,
  "cells": [
    {
      "cell_type": "markdown",
      "source": "<p style=\"text-align:center\">\n    <a href=\"https://skills.network/?utm_medium=Exinfluencer&utm_source=Exinfluencer&utm_content=000026UJ&utm_term=10006555&utm_id=NA-SkillsNetwork-Channel-SkillsNetworkGuidedProjectsINDGPXX0TUZEN1106-2022-01-01\" target=\"_blank\">\n    <img src=\"https://cf-courses-data.s3.us.cloud-object-storage.appdomain.cloud/assets/logos/SN_web_lightmode.png\" width=\"200\" alt=\"Skills Network Logo\"  />\n    </a>\n</p>\n",
      "metadata": {}
    },
    {
      "cell_type": "markdown",
      "source": "# **The World Cup soccer game prediction using machine learning method**\n",
      "metadata": {}
    },
    {
      "cell_type": "markdown",
      "source": "Estimated time needed: **30** minutes\n",
      "metadata": {}
    },
    {
      "cell_type": "markdown",
      "source": "Once four year! Everyone loves the World Cup.</br>\n\nThe __machine learning and data science methods__ are developing very fast recent years, why not trying to __predict the World Cup game__ result using the method?</br>\n\nToo difficult? After this project, __everyone can do it__!</br>\nToo technical required? We have __everything prepared__ in this project!</br>\nI can't understand all? Welcome back and you can review it __whenever you want__!</br>\nOnly soccer, any other sports? The idea is the same, you could __easily extend__ the method to any other sports.</br>\n\n<img src=\"https://cf-courses-data.s3.us.cloud-object-storage.appdomain.cloud/IND-GPXX0TUZEN/images/World_cup.jpeg\" width=\"60%\">\n\nWe understand that sports game are highly uncertainted, but the forcast result could tell a lot of information that could help! Moreover, the more information used in the model, the more precise the models can predict. We only use a part of the data that we provided. You can add all the data or even collect your own data for a more robust prediction model.\n",
      "metadata": {}
    },
    {
      "cell_type": "markdown",
      "source": "## __Table of Contents__\n\n<ol>\n    <li><a href=\"#Objectives\">Objectives</a></li>\n    <li>\n        <a href=\"#Setup\">Setup</a>\n        <ol>\n            <li><a href=\"#Installing-Required-Libraries\">Installing Required Libraries</a></li>\n            <li><a href=\"#Importing-Required-Libraries\">Importing Required Libraries</a></li>\n            <li><a href=\"#Defining-Helper-Functions\">Defining Helper Functions</a></li>\n        </ol>\n    </li>\n    <li>\n        <a href=\"#Background-and-preparation-for-the-model\">Background and preparation for the model</a>\n        <ol>\n            <li><a href=\"#How-should-we-collect-and-deal-with-the-data?\">How should we collect and deal with the data?</a></li>\n            <li><a href=\"#How-the-stucture-of-the-machine-learning-model-to-predict-soccer-games-should-be-like?\">How the stucture of the machine learning model to predict soccer games should be like?</a></li>\n        </ol>\n    </li>\n    <li>\n        <a href=\"#Training-and-prediction\">Training and prediction</a>\n        <ol>\n            <li><a href=\"#Train-the-model\">Train the model</a></li>\n            <li><a href=\"#Predicting-the-game\">Predicting the game</a></li>\n            <li><a href=\"#Analyze-the-model\">Analyze the model</a></li>\n        </ol>\n    </li>\n    <li>\n        <a href=\"#Exercises\">Exercises</a>\n        <ol>\n            <li><a href=\"#Exercise-1---Showing-a-specific-player-data\">Exercise 1 - Showing a specific player data</a></li>\n            <li><a href=\"#Exercise-2---Display-a-team-line-up-in-one-game\">Exercise 2 - Display a team line up in one game</a></li>\n            <li><a href=\"#Exercise-3---Showing-a-specific-game-result-prediction\">Exercise 3 - Showing a specific game result prediction</a></li>\n        </ol>\n    </li>\n</ol>\n",
      "metadata": {}
    },
    {
      "cell_type": "markdown",
      "source": "## Objectives\n\nAfter completing this lab, you will be able to:\n\n- __Know__ how to collect and prepare data for a data-driven project\n- __Understand__ how to predict sports result using machine learning models \n- __Implement__ for the World cup game prediction using a simple neural network model\n",
      "metadata": {}
    },
    {
      "cell_type": "markdown",
      "source": "----\n",
      "metadata": {}
    },
    {
      "cell_type": "markdown",
      "source": "## Setup\n",
      "metadata": {}
    },
    {
      "cell_type": "markdown",
      "source": "For this lab, we will be using the following libraries:\n\n*   [`pandas`](https://pandas.pydata.org/?utm_medium=Exinfluencer&utm_source=Exinfluencer&utm_content=000026UJ&utm_term=10006555&utm_id=NA-SkillsNetwork-Channel-SkillsNetworkCoursesIBMML0187ENSkillsNetwork31430127-2021-01-01) for managing the data.\n*   [`numpy`](https://numpy.org/?utm_medium=Exinfluencer&utm_source=Exinfluencer&utm_content=000026UJ&utm_term=10006555&utm_id=NA-SkillsNetwork-Channel-SkillsNetworkCoursesIBMML0187ENSkillsNetwork31430127-2021-01-01) for mathematical operations.\n*   [`sklearn`](https://scikit-learn.org/stable/?utm_medium=Exinfluencer&utm_source=Exinfluencer&utm_content=000026UJ&utm_term=10006555&utm_id=NA-SkillsNetwork-Channel-SkillsNetworkCoursesIBMML0187ENSkillsNetwork31430127-2021-01-01) for machine learning and machine-learning-pipeline related functions.\n*   [`seaborn`](https://seaborn.pydata.org/?utm_medium=Exinfluencer&utm_source=Exinfluencer&utm_content=000026UJ&utm_term=10006555&utm_id=NA-SkillsNetwork-Channel-SkillsNetworkCoursesIBMML0187ENSkillsNetwork31430127-2021-01-01) for visualizing the data.\n*   [`matplotlib`](https://matplotlib.org/?utm_medium=Exinfluencer&utm_source=Exinfluencer&utm_content=000026UJ&utm_term=10006555&utm_id=NA-SkillsNetwork-Channel-SkillsNetworkCoursesIBMML0187ENSkillsNetwork31430127-2021-01-01) for additional plotting tools.\n",
      "metadata": {}
    },
    {
      "cell_type": "markdown",
      "source": "### Installing Required Libraries\n\nThe following required libraries are pre-installed in the Skills Network Labs environment. However, if you run this notebook commands in a different Jupyter environment (e.g. Watson Studio or Ananconda), you will need to install these libraries by removing the `#` sign before `!mamba` in the code cell below.\n",
      "metadata": {}
    },
    {
      "cell_type": "markdown",
      "source": "The following required libraries are __not__ pre-installed in the Skills Network Labs environment. __You will need to run the following cell__ to install them:\n\n_It will take ~30 second to install the libraries._\n\n__You might need to try import piplite twice sometimes.__\n",
      "metadata": {}
    },
    {
      "cell_type": "code",
      "source": "import piplite\nawait piplite.install(['skillsnetwork'])",
      "metadata": {},
      "outputs": [],
      "execution_count": null
    },
    {
      "cell_type": "code",
      "source": "import skillsnetwork\ndataset_url=\"https://cf-courses-data.s3.us.cloud-object-storage.appdomain.cloud/IND-GPXX0TUZEN/lime.zip\"\nawait skillsnetwork.prepare(dataset_url, overwrite=True)\ndataset_url=\"https://cf-courses-data.s3.us.cloud-object-storage.appdomain.cloud/IND-GPXX0TUZEN/shap.zip\"\nawait skillsnetwork.prepare(dataset_url, overwrite=True)",
      "metadata": {},
      "outputs": [],
      "execution_count": null
    },
    {
      "cell_type": "markdown",
      "source": "### Importing Required Libraries\n\n_We recommend you import all required libraries in one place (here):_\n\n_It will take ~30 second to import the libraries._\n",
      "metadata": {}
    },
    {
      "cell_type": "code",
      "source": "import numpy as np\nimport pandas as pd\nfrom itertools import accumulate\nimport matplotlib.pyplot as plt\n%matplotlib inline\nfrom sklearn.preprocessing import StandardScaler\nfrom sklearn.datasets import load_digits, load_wine\nfrom sklearn.model_selection import train_test_split\nfrom sklearn import preprocessing\nfrom sklearn.neural_network import MLPClassifier\nfrom sklearn.model_selection import GridSearchCV\nfrom sklearn.metrics import accuracy_score\nimport lime\nfrom lime import lime_tabular\nimport shap\n\n# You can also use this section to suppress warnings generated by your code:\ndef warn(*args, **kwargs):\n    pass\nimport warnings\nwarnings.warn = warn\nwarnings.filterwarnings('ignore')",
      "metadata": {},
      "outputs": [],
      "execution_count": null
    },
    {
      "cell_type": "markdown",
      "source": "### Defining Helper Functions\n\n_Use this section to define any helper functions to help the notebook's code readability:_\n",
      "metadata": {}
    },
    {
      "cell_type": "code",
      "source": "# This function will allow us to easily plot data taking in x values, y values, and a title\ndef plotter(x, y, title):\n    plt.plot(x, y)\n    plt.xlabel('X')\n    plt.ylabel('Y')\n    plt.title(title)\n    plt.show()",
      "metadata": {},
      "outputs": [],
      "execution_count": null
    },
    {
      "cell_type": "markdown",
      "source": "----\n",
      "metadata": {}
    },
    {
      "cell_type": "markdown",
      "source": "## Background and preparation for the model\n\nThe World Cup 2022 is going to be held in Qatar. The World Cup is always popular all around the world. Here, we want to build a machine learning model which could predict the propbabilities of Win/Draw/Lose for every team in every game.\n\nTo build the machine learning model to predict soccer games, we should be able to:\n\n__1.  How should we collect the data__\n\n__2. Determine the stucture of the machine learning model to predict soccer games__\n\n<img src=\"https://cf-courses-data.s3.us.cloud-object-storage.appdomain.cloud/IND-GPXX0TUZEN/images/soccer_stadium_football_match_game-8451.jpg%21d.jpeg\" width=\"60%\">\n",
      "metadata": {}
    },
    {
      "cell_type": "markdown",
      "source": "### How should we collect and Analyse the Data?\n\nHere, we want to quantify a game features used as an input to build the model to predict the game result. It is staright forward to think of quantifying the player who played the game. If we have the __quantified player (who played the games) data, game result__, then we can build the model.\n\n__We limted the games used for training to the ones played between the _teams which will go to the World Cup_ in _2022.___ because of the following reason:\n\n(1) With the change of soccer game and player age growth, the same national teams' lineup can be totally different in every year. \n\n(2) The decisive keys in a soccer game could also be different with the time passes, the most advanced soccer style are changing.\n\n(3) The national teams which will play in the World Cup are mostly (Team like Italy could be the outliners) the strongest teams. The game style in the high-level (less weakest position determined) games and low-level (goal keeper determined) games are different.\n\n#### Games for training\n\nThe following is all the national team game results in 2022. (from Kaggle https://www.kaggle.com/datasets/martj42/international-football-results-from-1872-to-2017)\n",
      "metadata": {}
    },
    {
      "cell_type": "code",
      "source": "await skillsnetwork.download_dataset('https://cf-courses-data.s3.us.cloud-object-storage.appdomain.cloud/IND-GPXX0TUZEN/Training_games.csv')\nprint('file downloaded')\nGame_all = pd.read_csv('Training_games.csv')\nGame_all.head()",
      "metadata": {},
      "outputs": [],
      "execution_count": null
    },
    {
      "cell_type": "markdown",
      "source": "The teams list of the team in the World Cup 2022:\n",
      "metadata": {}
    },
    {
      "cell_type": "code",
      "source": "#Team = pd.DataFrame({'team':['Senegal','Qatar','Netherlands','Ecuador','Iran','England','United States','Wales','Argentina','Saudi Arabia','Mexico','Poland','Denmark','Tunisia','France','Australia','Germany','Japan','Spain','Costa Rica','Morocco','Croatia','Belgium','Canada','Switzerland','Cameroon','Brazil','Serbia','Uruguay','Korea Republic','Portugal','Ghana']})\nTeams = ['Senegal','Qatar','Netherlands','Ecuador','Iran','England','United States','Wales','Argentina','Saudi Arabia','Mexico','Poland','Denmark','Tunisia','France','Australia','Germany','Japan','Spain','Costa Rica','Morocco','Croatia','Belgium','Canada','Switzerland','Cameroon','Brazil','Serbia','Uruguay','Korea Republic','Portugal','Ghana']",
      "metadata": {},
      "outputs": [],
      "execution_count": null
    },
    {
      "cell_type": "markdown",
      "source": "Change the colunm name 'South Korea' to 'Korea Republic' to make the same name for each DataFrame:\n",
      "metadata": {}
    },
    {
      "cell_type": "code",
      "source": "Game_all = Game_all.replace('South Korea','Korea Republic')\nGame_all.head()",
      "metadata": {},
      "outputs": [],
      "execution_count": null
    },
    {
      "cell_type": "markdown",
      "source": "Pick up the game played among the teams which will go to the World Cup 2022 (in Team list):\n",
      "metadata": {}
    },
    {
      "cell_type": "code",
      "source": "Game_used = Game_all.drop(Game_all[(~Game_all['home_team'].isin(Teams)) | (~Game_all['away_team'].isin(Teams)) ].index)\nGame_used.count()\nGame_used",
      "metadata": {},
      "outputs": [],
      "execution_count": null
    },
    {
      "cell_type": "markdown",
      "source": "Here are the 62 games are going to be used in training.\n\nWe are making sure every team go to the world cup is in the training set:\n",
      "metadata": {}
    },
    {
      "cell_type": "code",
      "source": "list3 = list(Game_used['home_team'].unique()) + list(set(Game_used['away_team'].unique()) - set(Game_used['home_team'].unique()))\nlist(set(list3) - set(Teams))",
      "metadata": {},
      "outputs": [],
      "execution_count": null
    },
    {
      "cell_type": "markdown",
      "source": "#### Players for training\nAs we introduced, we are using the line up of the team as the input of the training dataset. Thus, we need the player dataset. \n\nThe FIFA sponsored most recent EA soccer game FIFA23 is a good source for the players' detailed data. Thus, we are using the FIFA23 player data. The data can be download from Kaggle (https://www.kaggle.com/datasets/cashncarry/fifa-23-complete-player-dataset)\n\n<img src=\"https://cf-courses-data.s3.us.cloud-object-storage.appdomain.cloud/IND-GPXX0TUZEN/images/images_FIFA.png\">\n",
      "metadata": {}
    },
    {
      "cell_type": "code",
      "source": "await skillsnetwork.download_dataset('https://cf-courses-data.s3.us.cloud-object-storage.appdomain.cloud/IND-GPXX0TUZEN/Player.csv')\nprint('file downloaded')\nPlayer_all = pd.read_csv('Player.csv')\nPlayer_all.head()",
      "metadata": {},
      "outputs": [],
      "execution_count": null
    },
    {
      "cell_type": "markdown",
      "source": "We can have a look at how many players are in every country among the 32 world cup attending ones.\n",
      "metadata": {}
    },
    {
      "cell_type": "code",
      "source": "for i in range(len(Teams)):\n    print(Teams[i],Player_all.loc[Player_all['Nationality'] == Teams[i]]['Name'].count())",
      "metadata": {},
      "outputs": [],
      "execution_count": null
    },
    {
      "cell_type": "markdown",
      "source": "Some players who played the games in the training set are not included in the FIFA23 player dataset. We will substitute these players with similar players. The similarities will be based on the position, country, and matching skills.\n",
      "metadata": {}
    },
    {
      "cell_type": "markdown",
      "source": "We can have a look at the player's data, for example the Ballon d'Or 2022 winner Karim Benzema\n\n<img src=\"https://cf-courses-data.s3.us.cloud-object-storage.appdomain.cloud/IND-GPXX0TUZEN/images/Karim_Benzema.jpeg\" width=\"20%\">\n",
      "metadata": {}
    },
    {
      "cell_type": "code",
      "source": "Player_all.loc[Player_all.FullName == 'Karim Benzema']",
      "metadata": {},
      "outputs": [],
      "execution_count": null
    },
    {
      "cell_type": "markdown",
      "source": "### What's the structure  of the machine learning model to predict soccer games should be like?\n\nWe will import the prepared lineup of the 62 training games. The player number in the FIFA23 player dataset are included in the file. The player number could access the player detailed data information.\n",
      "metadata": {}
    },
    {
      "cell_type": "code",
      "source": "await skillsnetwork.download_dataset('https://cf-courses-data.s3.us.cloud-object-storage.appdomain.cloud/IND-GPXX0TUZEN/Training_game_62.csv')\nprint('file downloaded')\nGame_62 = pd.read_csv('Training_game_62.csv')\n\n#show the first player in the first of the 62 training games\nPlayer_all.loc[(Game_62.loc[0]['Player1'])]",
      "metadata": {},
      "outputs": [],
      "execution_count": null
    },
    {
      "cell_type": "markdown",
      "source": "Our world cup predicting machine learning model is clear right now:\n",
      "metadata": {}
    },
    {
      "cell_type": "markdown",
      "source": "<center><img src=\"https://cf-courses-data.s3.us.cloud-object-storage.appdomain.cloud/IND-GPXX0TUZEN/images/Slide1.jpeg\" width=\"50%\"></center>\n\n<center><img src=\"https://cf-courses-data.s3.us.cloud-object-storage.appdomain.cloud/IND-GPXX0TUZEN/images/thumb_favorite_hand_arm_handle_hand_tool_equal_like-941135.jpg%21d.jpeg\" width=\"40%\"></center>\n",
      "metadata": {}
    },
    {
      "cell_type": "markdown",
      "source": "#### Training set\n\nWe will set up the training **features** following the structure above. \nThe features include team average age and player's overall ratings, from Goal Keeper to striker.\nThese info are stored in the dataframe ```Player_all```.\nWe are creating DataFrame of the teams' average age in the training set ```Train_df_age```: \n",
      "metadata": {}
    },
    {
      "cell_type": "code",
      "source": "team_age=[]\nfor j in range(62):\n    \n    # Get the team1 and team2 player index from the Team DataFrame\n    team1_index = list(Game_62.loc[j][8:19])\n    team2_index = list(Game_62.loc[j][19:30])\n    \n    # Average of the team age\n    temp1 = Player_all.iloc[team1_index]['Age'].mean()\n    temp2 = Player_all.iloc[team2_index]['Age'].mean()\n    team_age.append([temp1,temp2])\n    \n# Create the DataFrame for the average age    \ncols = ['Average_age1','Average_age2']\nTrain_df_age = pd.DataFrame(team_age, columns=cols)\nTrain_df_age.head()",
      "metadata": {},
      "outputs": [],
      "execution_count": null
    },
    {
      "cell_type": "markdown",
      "source": "Simlarly, We are creating  a DataFrame of the every teams' player overall rating in the training set ```Train_df_overall```:\n",
      "metadata": {}
    },
    {
      "cell_type": "code",
      "source": "team_overall=[]\nfor j in range(62):\n    \n    # Get the full team1 and team2 player index from the Team DataFrame\n    team_index = list(Game_62.loc[j][8:30])\n    \n    # The team1 and team2 player overall from the Team DataFrame\n    temp3 = Player_all.iloc[team_index]['Overall']\n    team_overall.append(list(temp3))\n    \n# Create the DataFrame for the player overall    \ncols = []\nfor i in range(22):\n    cols.append('Player'+str(i+1)+'_overall') \nTrain_df_overall = pd.DataFrame(team_overall, columns=cols)\nTrain_df_overall.head()",
      "metadata": {},
      "outputs": [],
      "execution_count": null
    },
    {
      "cell_type": "markdown",
      "source": "We then can combine the two DataFrame into Train_df using ``pd.concat``, axis means the orientation to combine of the two DataFrames\n",
      "metadata": {}
    },
    {
      "cell_type": "code",
      "source": "Train_df=pd.concat([Train_df_age, Train_df_overall],axis=1)",
      "metadata": {},
      "outputs": [],
      "execution_count": null
    },
    {
      "cell_type": "code",
      "source": "Train_df.head()",
      "metadata": {},
      "outputs": [],
      "execution_count": null
    },
    {
      "cell_type": "markdown",
      "source": "Seting up the **labels** in the training 62 game dataset:\n",
      "metadata": {}
    },
    {
      "cell_type": "code",
      "source": "Result_training = []\nResult_totalgoal = []\nResult_netgoal = []\nfor j in range(62):\n    Result_training.append(Game_62.loc[j]['Result'])\n    Result_totalgoal.append(Game_62.loc[j]['Netgoal'])\n    Result_netgoal.append(Game_62.loc[j]['Goal_total'])\nnp.array(Result_training)\nnp.array(Result_totalgoal)\nnp.array(Result_netgoal)",
      "metadata": {},
      "outputs": [],
      "execution_count": null
    },
    {
      "cell_type": "markdown",
      "source": "#### Predicting set\n\nWe are going to import all the group stage games:\n",
      "metadata": {}
    },
    {
      "cell_type": "code",
      "source": "await skillsnetwork.download_dataset('https://cf-courses-data.s3.us.cloud-object-storage.appdomain.cloud/IND-GPXX0TUZEN/matches_group.csv')\nprint('file downloaded')\nmatch = pd.read_csv('matches_group.csv')\nmatch.head()",
      "metadata": {},
      "outputs": [],
      "execution_count": null
    },
    {
      "cell_type": "markdown",
      "source": "For each of the games, there will be two teams. \n\nThe line up of each team in the games is following made by author.\n\nThe proposed line up is following author's understanding of soccer, the most predicted lineup of people predicted online and the rule of maximize the team overall rate. we are importing the line up of each team (also from Goal keeper to striker):\n",
      "metadata": {}
    },
    {
      "cell_type": "code",
      "source": "await skillsnetwork.download_dataset('https://cf-courses-data.s3.us.cloud-object-storage.appdomain.cloud/IND-GPXX0TUZEN/Teams.csv')\nprint('file downloaded')\nTeam = pd.read_csv('Teams.csv')\nTeam.head()",
      "metadata": {},
      "outputs": [],
      "execution_count": null
    },
    {
      "cell_type": "markdown",
      "source": "The prediting set is prepared as the same format,using the same method as the training set,\n\nFor the team average age DataFrame ```Predic_df_age```:\n",
      "metadata": {}
    },
    {
      "cell_type": "code",
      "source": "team_age=[]\nfor j in range(48):\n    \n    # Get the team1 and team2 player index from the Team DataFrame\n    team1_index = list(Team.loc[Team['Team'] == match['country1'][j]].iloc[0,3:])\n    team2_index = list(Team.loc[Team['Team'] == match['country2'][j]].iloc[0,3:])\n    \n    # Average of the team age\n    temp1 = Player_all.iloc[team1_index]['Age'].mean()\n    temp2 = Player_all.iloc[team2_index]['Age'].mean()\n    team_age.append([temp1,temp2])\n\n# Create the DataFrame for the average age\ncols = ['Average_age1','Average_age2']\nPredic_df_age = pd.DataFrame(team_age, columns=cols)\nPredic_df_age.head()",
      "metadata": {},
      "outputs": [],
      "execution_count": null
    },
    {
      "cell_type": "markdown",
      "source": "For the team overall ```Predic_df_overall```:\n",
      "metadata": {}
    },
    {
      "cell_type": "code",
      "source": "team_overall=[]\nfor j in range(48):\n    \n    # Get the full team1 and team2 player index from the Team DataFrame\n    team_index = list(Team.loc[Team['Team'] == match['country1'][j]].iloc[0,3:]) + list(Team.loc[Team['Team'] == match['country2'][j]].iloc[0,3:])\n    \n    # The team1 and team2 player overall from the Team DataFrame\n    temp3 = Player_all.iloc[team_index]['Overall']\n    team_overall.append(list(temp3))\n\n# Create the DataFrame for the player overall\ncols = []\nfor i in range(22):\n    cols.append('Player'+str(i+1)+'_overall') \nPredic_df_overall = pd.DataFrame(team_overall, columns=cols)\nPredic_df_overall.head()",
      "metadata": {},
      "outputs": [],
      "execution_count": null
    },
    {
      "cell_type": "markdown",
      "source": "Combining the two DataFrame as ```Predicting_dt```\n",
      "metadata": {}
    },
    {
      "cell_type": "code",
      "source": "Predicting_df=pd.concat([Predic_df_age, Predic_df_overall],axis=1)",
      "metadata": {},
      "outputs": [],
      "execution_count": null
    },
    {
      "cell_type": "code",
      "source": "Predicting_df.head()",
      "metadata": {},
      "outputs": [],
      "execution_count": null
    },
    {
      "cell_type": "markdown",
      "source": "To standardize the predicting set and training set:\n",
      "metadata": {}
    },
    {
      "cell_type": "code",
      "source": "All_df = pd.concat([Train_df,Predicting_df],axis=0)\nAll_df = preprocessing.StandardScaler().fit(All_df).transform(All_df.astype(float))\nX_1 = All_df[:62]\nX_2 = All_df[62:]",
      "metadata": {},
      "outputs": [],
      "execution_count": null
    },
    {
      "cell_type": "markdown",
      "source": "----\n",
      "metadata": {}
    },
    {
      "cell_type": "markdown",
      "source": "## Training and prediction\n### Train the model\n",
      "metadata": {}
    },
    {
      "cell_type": "markdown",
      "source": "Here we separate  the 62 games into training set and testing set:\n",
      "metadata": {}
    },
    {
      "cell_type": "code",
      "source": "X_train, X_test, y_train, y_test = train_test_split(X_1, np.array(Result_training), test_size=0.1, random_state=42)\n#X_train.shape, X_test.shape\nX_train",
      "metadata": {},
      "outputs": [],
      "execution_count": null
    },
    {
      "cell_type": "markdown",
      "source": "We are using a simple neural network model to predict the resutl.\n\nTo train the models using  different parametrs and finding the best one is following the simple codes as below:\n\n_This step will take ~5 minutes, have a cup of coffee_\n\n<img src=\"https://cf-courses-data.s3.us.cloud-object-storage.appdomain.cloud/IND-GPXX0TUZEN/images/coffee_cafe_mug_decorative_drink_beverage_latte_cappuccino-847370.jpg%21d.jpeg\" width=\"40%\">\n",
      "metadata": {}
    },
    {
      "cell_type": "code",
      "source": "parameters = {'hidden_layer_sizes':[50, 75, 100],\n              'alpha': [0.0001, 0.001, 0.01, 0.1], \n              'max_iter': [200, 500, 800], \n              'learning_rate_init':[0.0001, 0.001, 0.01, 0.1]}\n\nmodel = MLPClassifier()\nclf = GridSearchCV(estimator=model, param_grid=parameters, cv=5, n_jobs=-1)\nclf.fit(X_train, y_train) # may need to reduce the train set size to shorten the training time\n\nprint(\"The best parameter values found are:\\n\")\nprint(clf.best_params_)\n\n# store the best model found in \"bestmodel\"\nbestmodel = clf.best_estimator_",
      "metadata": {},
      "outputs": [],
      "execution_count": null
    },
    {
      "cell_type": "markdown",
      "source": "We can see the testing result:\n",
      "metadata": {}
    },
    {
      "cell_type": "code",
      "source": "y_prob = bestmodel.predict_proba(X_test)\ny_pred = bestmodel.predict(X_test)\n#print(f\"The accuracy score of the best model is {accuracy_score(y_test, y_pred)}\\n\")\nprint([np.round(y_prob,3), y_pred, y_test])\n# D/L/W probality; Predicted result; Real Result",
      "metadata": {},
      "outputs": [],
      "execution_count": null
    },
    {
      "cell_type": "markdown",
      "source": "Soccer game involves much uncertainties. Though some of the prediction is not 100% right, the testing result predict most of the games in the training set.\n",
      "metadata": {}
    },
    {
      "cell_type": "markdown",
      "source": "### Predicting the game\n\nHere is the predicting W/L/D and probability of them of each game based on our very simple model:\n",
      "metadata": {}
    },
    {
      "cell_type": "code",
      "source": "y_prob = bestmodel.predict_proba(X_2)\ny_result = bestmodel.predict(X_2)\nprint([np.round(y_prob,3),y_result])",
      "metadata": {},
      "outputs": [],
      "execution_count": null
    },
    {
      "cell_type": "markdown",
      "source": "Combining the game predicting result with the Time and Teams in one DataFrame:\n",
      "metadata": {}
    },
    {
      "cell_type": "code",
      "source": "cols_result = ['Time','Home Team','Away Team','Predicted result','Home Win rate','Draw rate','Home Lose rate']\nResult_df = pd.DataFrame([], columns=cols_result)\nResult_df['Time'] = match.iloc[:48,1].values\nResult_df['Home Team'] = match.iloc[:48,2].values\nResult_df['Away Team'] = match.iloc[:48,3].values\nResult_df['Predicted result'] = y_result\nResult_df['Home Win rate'] = np.round(y_prob[:,2],3)\nResult_df['Draw rate'] = np.round(y_prob[:,0],3)\nResult_df['Home Lose rate'] = np.round(y_prob[:,1],3)\nResult_df\n#content_result = np.concatenate(match.iloc[:,1].values,match.iloc[:,2].values,match.iloc[:,3].values,y_result,np.round(y_prob[:,2],3),np.round(y_prob[:,0],3),np.round(y_prob[:,1],3))\n#content_result.transpose()\n\n#Result_df",
      "metadata": {},
      "outputs": [],
      "execution_count": null
    },
    {
      "cell_type": "markdown",
      "source": "Showing the predicting probability in a diagram:\n",
      "metadata": {}
    },
    {
      "cell_type": "code",
      "source": "A = Result_df.loc[Result_df['Home Team'] == 'Japan']\nA = A.loc[A['Away Team'] == 'Spain']\n\ndata = {'Japan Win':A['Home Win rate'].values[0], 'Draw':A['Draw rate'].values[0], 'Spain Win':A['Home Lose rate'].values[0]}\nnumber = list(data.keys())\nvalues = list(data.values())\nc = ['blue', 'yellow', 'red']\n\nplt.bar(number, values, color = c, width = 0.4)\nplt.title(\"Result probability of Japan VS Spain\", y=1.012)\nplt.ylabel(\"probability\", labelpad=3);\n\nplt.show()",
      "metadata": {},
      "outputs": [],
      "execution_count": null
    },
    {
      "cell_type": "markdown",
      "source": "It is pretty easy to use machine learning method to predic the soccer game right?\n\nThe model is very easy and the soccer game can be very uncertained. No one can 100% predict what will happen in a soccer game. But we can try to make a more information contained model which might provide more precise predictions.\n\n<font color='red'> If you want, you can include __players' more detailed data__ (provided in Player_all) and the __home_away_neutral and other effects__ of the game for a __more precise soccer game prediction model__.</font>\n",
      "metadata": {}
    },
    {
      "cell_type": "markdown",
      "source": "### Analyze the model\n\nThe neural network models is just like a black box. **But can we get some information from the black-box? Like what position is important for a good soccer team?**\n\n**LIME** and **SHAP** could help with the interpretability.\n\nThey are surrogate models. They both **tweak** the input slightly (like we do in sensitivity tests) and **test the changes in prediction**. From the influence, we know how each features is related to the labels.\n\nLet's see how the two models work:\n\n#### LIME\n",
      "metadata": {}
    },
    {
      "cell_type": "markdown",
      "source": "We first name down the 24 feature's meaning (e.g. M4_1 means the forth midfield in team1)\n",
      "metadata": {}
    },
    {
      "cell_type": "code",
      "source": "Label_name = ['Team1_Age','Team2_Age','GK_1','RB_1','CB1_1','CB2_1','LB_1','M1_1','M2_1','M3_1','M4_1','F1_1','F2_1','GK_2','RB_2','CB1_2','CB2_2','LB_2','M1_2','M2_2','M3_2','M4_2','F1_2','F2_2']  ",
      "metadata": {},
      "outputs": [],
      "execution_count": null
    },
    {
      "cell_type": "markdown",
      "source": "We use a popular game  Spain VS Germany as an example of Lime analysis\n",
      "metadata": {}
    },
    {
      "cell_type": "code",
      "source": "# Setting the lime explainer\nlime_explainer = lime_tabular.LimeTabularExplainer(\n    training_data=X_train,\n    feature_names=Label_name,\n    class_names=['D','L','W'],\n    mode='classification'\n)\n\n# to Check the game 28 Spain VS Germany\nExam_1 = X_2[27]\n\n# Continue to set the lime explainer\nlime_exp = lime_explainer.explain_instance(\n    data_row=Exam_1,\n    predict_fn=bestmodel.predict_proba,\n    num_features=24\n)\n\n#plot the result\nlime_exp.show_in_notebook(show_table=True)",
      "metadata": {},
      "outputs": [],
      "execution_count": null
    },
    {
      "cell_type": "markdown",
      "source": "Using the Lime model. We get the result above. The orange means the feature is positively correlated to Germany winning the game; blue is positively correlated to Germany lose the game.\nWe could found some interesting hints of the game.\n\n___(1) The game highly possible will be draw___\n\n___(2) The center line largely influcence the game, especially the midfield.___\n\n___(3) It never says if a team has best player in every position has larger opportunity to win.___\n",
      "metadata": {}
    },
    {
      "cell_type": "markdown",
      "source": "#### SHAP\n",
      "metadata": {}
    },
    {
      "cell_type": "code",
      "source": "# Setting the SHAP explainer\nexplainer = shap.KernelExplainer(bestmodel.predict_proba, X_1)\n\n#Calculate SHAP value\nshap_values = explainer.shap_values(X_2)",
      "metadata": {},
      "outputs": [],
      "execution_count": null
    },
    {
      "cell_type": "markdown",
      "source": "Here, in SHAP, we could display each parameter's influence on the final result by using ___summary plot___ in SHAP. Blue is team 1 wins, pink is draw, brown is team 2 wins:\n",
      "metadata": {}
    },
    {
      "cell_type": "code",
      "source": "#Plot the features influence in general for all the training the game\nshap.summary_plot(shap_values, X_2,\n                  feature_names=Label_name,\n                  class_names=['D','L','W'],\n                  max_display=24)",
      "metadata": {},
      "outputs": [],
      "execution_count": null
    },
    {
      "cell_type": "markdown",
      "source": "Here, from the diagram:\n\n___(1) Ages don't matter that much!___\n\n___(2) Every position all contributed to a game, but the importance is not the same. The most noticable position striker (Foward#2) is only icing on the cake, a good shooter always need a good team.___\n\n___(3) Good defense at least could help team to get a draw result.___\n",
      "metadata": {}
    },
    {
      "cell_type": "markdown",
      "source": "We can see each positions' player's potential influence to each game in a the World Cup by using ___force_plot___ in SHAP. \n\nWe also see which game could highly possible be a draw game, and could tell which player make the W/L happen. \n\n_Red is draw, Blue is not draw here._\n",
      "metadata": {}
    },
    {
      "cell_type": "code",
      "source": "shap.initjs() #initial jacascript in cell\nshap.force_plot(explainer.expected_value[0], shap_values[0], X_1, feature_names=Label_name)",
      "metadata": {},
      "outputs": [],
      "execution_count": null
    },
    {
      "cell_type": "markdown",
      "source": "----\n",
      "metadata": {}
    },
    {
      "cell_type": "markdown",
      "source": "## Exercises\n",
      "metadata": {}
    },
    {
      "cell_type": "markdown",
      "source": "### Exercise 1 - Showing a specific player data\n",
      "metadata": {}
    },
    {
      "cell_type": "markdown",
      "source": "Show the Lionel Messi's information (column FullName == 'Lionel Messi')\n\n<img src=\"https://cf-courses-data.s3.us.cloud-object-storage.appdomain.cloud/IND-GPXX0TUZEN/images/Lionel_Messi.jpeg\" width=\"20%\">\n",
      "metadata": {}
    },
    {
      "cell_type": "code",
      "source": "# Add code for exercise 1 here:\n",
      "metadata": {},
      "outputs": [],
      "execution_count": null
    },
    {
      "cell_type": "markdown",
      "source": "<details>\n    <summary>Click here for Solution</summary>\n\n```python\nPlayer_all.loc[Player_all.FullName == 'Lionel Messi']\n```\n\n</details>\n",
      "metadata": {}
    },
    {
      "cell_type": "markdown",
      "source": "### Exercise 2 - Display a team line up in one game\n",
      "metadata": {}
    },
    {
      "cell_type": "markdown",
      "source": "Display the Ghana's 11 player names who lined up in the first game of the 62 training set \n",
      "metadata": {}
    },
    {
      "cell_type": "code",
      "source": "# Add code for exercise 2 here:\n",
      "metadata": {},
      "outputs": [],
      "execution_count": null
    },
    {
      "cell_type": "markdown",
      "source": "<details>\n    <summary>Click here for Solution</summary>\n\n```python\nLineup_1 = []\nfor i in range(11):\n    location = 'Player'+str(i+1)\n    number = Game_62.loc[0][location]\n    Lineup_1.append(Player_all.loc[number]['Name'])\nLineup_1\n```\n\n</details>\n",
      "metadata": {}
    },
    {
      "cell_type": "markdown",
      "source": "### Exercise 3 - Showing a specific game result prediction\n",
      "metadata": {}
    },
    {
      "cell_type": "markdown",
      "source": "Show our model's prediction of Canada VS Morocco in the World Cup, and plot the W/D/L rate in a diagram\n",
      "metadata": {}
    },
    {
      "cell_type": "code",
      "source": "# Add code for exercise 3 here:\n",
      "metadata": {},
      "outputs": [],
      "execution_count": null
    },
    {
      "cell_type": "markdown",
      "source": "<details>\n    <summary>Click here for Solution</summary>\n\n```python\nB = Result_df.loc[Result_df['Home Team'] == 'Canada']\nB = B.loc[B['Away Team'] == 'Morocco']\n\ndata = {'Canada Win':B['Home Win rate'].values[0], 'Draw':B['Draw rate'].values[0], 'Morocco Win':B['Home Lose rate'].values[0]}\nnumber = list(data.keys())\nvalues = list(data.values())\nc = ['red', 'yellow', 'blue']\n\nplt.bar(number, values, color = c, width = 0.4)\nplt.title(\"Result probability of Canada VS Morocco\", y=1.012)\nplt.ylabel(\"probability\", labelpad=3);\n\nplt.show()\n```\n\n</details>\n",
      "metadata": {}
    },
    {
      "cell_type": "markdown",
      "source": "----\n",
      "metadata": {}
    },
    {
      "cell_type": "markdown",
      "source": "## Authors\n",
      "metadata": {}
    },
    {
      "cell_type": "markdown",
      "source": "[Junxing(J.C.) Chen](https://www.linkedin.com/in/junxing-chen-3591a4162/?utm_medium=Exinfluencer&utm_source=Exinfluencer&utm_content=000026UJ&utm_term=10006555&utm_id=NA-SkillsNetwork-Channel-SkillsNetworkGuidedProjectsINDGPXX0TUZEN1106-2022-01-01) is a Data Science at IBM with strong interests in machine learning and cutting-edge technologies.\n",
      "metadata": {}
    },
    {
      "cell_type": "markdown",
      "source": "## Change Log\n",
      "metadata": {}
    },
    {
      "cell_type": "markdown",
      "source": "|Date (YYYY-MM-DD)|Version|Changed By|Change Description|\n|-|-|-|-|\n|2022-11-01|0.1|Junxing(J.C.) Chen|Create the project|\n",
      "metadata": {}
    },
    {
      "cell_type": "markdown",
      "source": "Copyright © 2022 IBM Corporation. All rights reserved.\n",
      "metadata": {}
    }
  ]
}